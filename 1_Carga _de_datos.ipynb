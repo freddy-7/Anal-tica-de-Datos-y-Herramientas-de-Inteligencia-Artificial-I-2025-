{
 "cells": [
  {
   "cell_type": "code",
   "execution_count": 1,
   "metadata": {},
   "outputs": [],
   "source": [
    "import json\n",
    "import pandas as pd\n",
    "import numpy as np\n",
    "import glob"
   ]
  },
  {
   "cell_type": "markdown",
   "metadata": {},
   "source": [
    "***CARGA DE ARCHIVOS CSV***"
   ]
  },
  {
   "cell_type": "markdown",
   "metadata": {},
   "source": [
    "CARGA DE ARCHIVO .CSV EN GOOGLE COLAB (REMOTO)"
   ]
  },
  {
   "cell_type": "code",
   "execution_count": null,
   "metadata": {},
   "outputs": [],
   "source": [
    "#Cargar archivo csv desde equipo\n",
    "from google.colab import files\n",
    "files.upload()"
   ]
  },
  {
   "cell_type": "code",
   "execution_count": null,
   "metadata": {},
   "outputs": [],
   "source": [
    "#Convertir a dataframe\n",
    "df_csv_colab= pd.read_csv(\"Ventas_totales.csv\")\n",
    "df_csv_colab"
   ]
  },
  {
   "cell_type": "markdown",
   "metadata": {},
   "source": [
    "CARGA DE ARCHIVO .CSV EN VISUAL STUDIO CODE (LOCAL)"
   ]
  },
  {
   "cell_type": "code",
   "execution_count": null,
   "metadata": {},
   "outputs": [],
   "source": [
    "#Convertir a dataframe\n",
    "df_csv_visual= pd.read_csv(\"Ventas_totales.csv\")\n",
    "df_csv_visual"
   ]
  },
  {
   "cell_type": "markdown",
   "metadata": {},
   "source": [
    "***CARGA DE ARCHIVOS XLSX***"
   ]
  },
  {
   "cell_type": "markdown",
   "metadata": {},
   "source": [
    "CARGA DE ARCHIVO .XLSX EN GOOGLE COLAB (REMOTO)"
   ]
  },
  {
   "cell_type": "code",
   "execution_count": null,
   "metadata": {},
   "outputs": [],
   "source": [
    "#Cargar archivo xlsx desde equipo\n",
    "from google.colab import files\n",
    "files.upload()"
   ]
  },
  {
   "cell_type": "code",
   "execution_count": null,
   "metadata": {},
   "outputs": [],
   "source": [
    "#Carga desde un archivo .xlsx sin indice\n",
    "df_xlsx_colab= pd.read_excel('Antigüedad de saldos 17.03.2023.xlsx')\n",
    "df_xlsx_colab"
   ]
  },
  {
   "cell_type": "markdown",
   "metadata": {},
   "source": [
    "CARGA DE ARCHIVO .XLSX EN VISUAL STUDIO CODE (LOCAL)"
   ]
  },
  {
   "cell_type": "code",
   "execution_count": null,
   "metadata": {},
   "outputs": [],
   "source": [
    "#Carga desde un archivo .xlsx sin indice\n",
    "df_xlsx_visual= pd.read_excel('Antigüedad de saldos 17.03.2023.xlsx')\n",
    "df_xlsx_visual"
   ]
  },
  {
   "cell_type": "markdown",
   "metadata": {},
   "source": [
    "***Análisis exploratorio del dataframe***"
   ]
  },
  {
   "cell_type": "code",
   "execution_count": null,
   "metadata": {},
   "outputs": [],
   "source": [
    "#Verificamos información del DataFrame\n",
    "df_xlsx_visual.info()"
   ]
  },
  {
   "cell_type": "code",
   "execution_count": null,
   "metadata": {},
   "outputs": [],
   "source": [
    "#Imprimo los primeros 5 registro del dataframe\n",
    "df_xlsx_visual.head()"
   ]
  },
  {
   "cell_type": "code",
   "execution_count": null,
   "metadata": {},
   "outputs": [],
   "source": [
    "#Extracción por columnas\n",
    "data=df_xlsx_visual.iloc[ : , 1:3]       #Columnas consecutivas 00\n",
    "#data=df_xlsx_visual.iloc[ : , [1,4,5]]  #Columnas no consecutivas \n",
    "data"
   ]
  },
  {
   "cell_type": "code",
   "execution_count": null,
   "metadata": {},
   "outputs": [],
   "source": [
    "#Convertir archivo filtrado a CSV\n",
    "data.to_csv(\"Entregable1.csv\")"
   ]
  },
  {
   "cell_type": "code",
   "execution_count": null,
   "metadata": {},
   "outputs": [],
   "source": [
    "#descardar archivo filtrado en csv\n",
    "from google.colab import files \n",
    "  \n",
    "  \n",
    "files.download(\"Entregable1.csv\")"
   ]
  },
  {
   "cell_type": "markdown",
   "metadata": {},
   "source": [
    "***CARGA DE ARCHIVOS .JSON EN VISUAL STUDIO (LOCAL)***"
   ]
  },
  {
   "cell_type": "code",
   "execution_count": null,
   "metadata": {},
   "outputs": [],
   "source": [
    "# Lee el archivo JSON directamente\n",
    "data_json = pd.read_json('data-nl-2015.json')"
   ]
  },
  {
   "cell_type": "code",
   "execution_count": null,
   "metadata": {},
   "outputs": [],
   "source": [
    "# Muestra el contenido\n",
    "data_json"
   ]
  },
  {
   "cell_type": "code",
   "execution_count": null,
   "metadata": {},
   "outputs": [],
   "source": [
    "# Lee un archivo JSON que requiere preprocesamiento\n",
    "data_001 = pd.read_json('001.json')\n"
   ]
  },
  {
   "cell_type": "code",
   "execution_count": 9,
   "metadata": {},
   "outputs": [],
   "source": [
    "# Cargar el archivo JSON manualmente\n",
    "with open('001.json') as f:\n",
    "    data_001 = json.load(f)"
   ]
  },
  {
   "cell_type": "code",
   "execution_count": 10,
   "metadata": {},
   "outputs": [
    {
     "data": {
      "text/plain": [
       "{'listing_id': 2390109,\n",
       " 'id': 22208895,\n",
       " 'date': '2014-11-01',\n",
       " 'reviewer_id': 4358294,\n",
       " 'reviewer_name': 'Inessa',\n",
       " 'text': 'I had a great time staying here! The room is huge and sunny, and it was the perfect place to do some work and hang out in the afternoon before heading out to dinner. Alexandra and David were very welcoming hosts. They were always around to answer any questions. They had breakfast and coffee for me every morning and even left it on the table by the door on mornings when I had to rush out to the office.  The cats were really cute too!',\n",
       " 'title': 'ENTIRE FLOOR! Business travel & fun',\n",
       " 'host_id': 2665483,\n",
       " 'listing_latitude': 30.2962457933164,\n",
       " 'listing_longitude': -97.75013113693174,\n",
       " 'host_name': 'Alexandra'}"
      ]
     },
     "execution_count": 10,
     "metadata": {},
     "output_type": "execute_result"
    }
   ],
   "source": [
    "# Muestra el contenido\n",
    "data_001"
   ]
  },
  {
   "cell_type": "code",
   "execution_count": null,
   "metadata": {},
   "outputs": [],
   "source": [
    "# Proporcionar un índice\n",
    "df1 = pd.DataFrame(data_001, index=[0])\n",
    "df1"
   ]
  },
  {
   "cell_type": "markdown",
   "metadata": {},
   "source": [
    "***Crear un archivo CSV con varios archivos json***"
   ]
  },
  {
   "cell_type": "code",
   "execution_count": null,
   "metadata": {},
   "outputs": [],
   "source": [
    "# Obtener todos los archivos JSON de la carpeta\n",
    "json_files = glob.glob('archivos json/airbnb/*.json')\n",
    "json_files"
   ]
  },
  {
   "cell_type": "code",
   "execution_count": 18,
   "metadata": {},
   "outputs": [
    {
     "data": {
      "text/plain": [
       "[]"
      ]
     },
     "execution_count": 18,
     "metadata": {},
     "output_type": "execute_result"
    }
   ],
   "source": [
    "# Crear una lista para almacenar los DataFrames\n",
    "dfs = []\n",
    "dfs"
   ]
  },
  {
   "cell_type": "code",
   "execution_count": 19,
   "metadata": {},
   "outputs": [],
   "source": [
    "# Leer cada archivo JSON\n",
    "for file in json_files:\n",
    "    # Abrir el archivo JSON y cargarlo\n",
    "    with open(file, 'r', encoding= 'utf8') as f:\n",
    "        data = json.load(f)\n",
    "    # Si los datos son un solo diccionario, envolverlos en una lista\n",
    "    if isinstance(data, dict):\n",
    "        data = [data]\n",
    "    # Convertir los datos en un DataFrame y agregarlo a la lista\n",
    "    df = pd.DataFrame(data)\n",
    "    dfs.append(df)"
   ]
  },
  {
   "cell_type": "code",
   "execution_count": 22,
   "metadata": {},
   "outputs": [
    {
     "data": {
      "text/html": [
       "<div>\n",
       "<style scoped>\n",
       "    .dataframe tbody tr th:only-of-type {\n",
       "        vertical-align: middle;\n",
       "    }\n",
       "\n",
       "    .dataframe tbody tr th {\n",
       "        vertical-align: top;\n",
       "    }\n",
       "\n",
       "    .dataframe thead th {\n",
       "        text-align: right;\n",
       "    }\n",
       "</style>\n",
       "<table border=\"1\" class=\"dataframe\">\n",
       "  <thead>\n",
       "    <tr style=\"text-align: right;\">\n",
       "      <th></th>\n",
       "      <th>listing_id</th>\n",
       "      <th>id</th>\n",
       "      <th>date</th>\n",
       "      <th>reviewer_id</th>\n",
       "      <th>reviewer_name</th>\n",
       "      <th>text</th>\n",
       "      <th>title</th>\n",
       "      <th>host_id</th>\n",
       "      <th>listing_latitude</th>\n",
       "      <th>listing_longitude</th>\n",
       "      <th>host_name</th>\n",
       "    </tr>\n",
       "  </thead>\n",
       "  <tbody>\n",
       "    <tr>\n",
       "      <th>0</th>\n",
       "      <td>2390109</td>\n",
       "      <td>22208895</td>\n",
       "      <td>2014-11-01</td>\n",
       "      <td>4358294</td>\n",
       "      <td>Inessa</td>\n",
       "      <td>I had a great time staying here! The room is h...</td>\n",
       "      <td>ENTIRE FLOOR! Business travel &amp; fun</td>\n",
       "      <td>2665483</td>\n",
       "      <td>30.296246</td>\n",
       "      <td>-97.750131</td>\n",
       "      <td>Alexandra</td>\n",
       "    </tr>\n",
       "    <tr>\n",
       "      <th>1</th>\n",
       "      <td>2390109</td>\n",
       "      <td>22619785</td>\n",
       "      <td>2014-11-10</td>\n",
       "      <td>12361335</td>\n",
       "      <td>Colibri</td>\n",
       "      <td>What a wonderful space in a beautiful &amp; quiet ...</td>\n",
       "      <td>ENTIRE FLOOR! Business travel &amp; fun</td>\n",
       "      <td>2665483</td>\n",
       "      <td>30.296246</td>\n",
       "      <td>-97.750131</td>\n",
       "      <td>Alexandra</td>\n",
       "    </tr>\n",
       "    <tr>\n",
       "      <th>2</th>\n",
       "      <td>2390109</td>\n",
       "      <td>23234873</td>\n",
       "      <td>2014-11-25</td>\n",
       "      <td>6359216</td>\n",
       "      <td>Giuseppe</td>\n",
       "      <td>The reservation was canceled 107 days before a...</td>\n",
       "      <td>ENTIRE FLOOR! Business travel &amp; fun</td>\n",
       "      <td>2665483</td>\n",
       "      <td>30.296246</td>\n",
       "      <td>-97.750131</td>\n",
       "      <td>Alexandra</td>\n",
       "    </tr>\n",
       "    <tr>\n",
       "      <th>3</th>\n",
       "      <td>2390109</td>\n",
       "      <td>23338508</td>\n",
       "      <td>2014-11-29</td>\n",
       "      <td>23638127</td>\n",
       "      <td>Sophia</td>\n",
       "      <td>When I saw the posting and how clean and simpl...</td>\n",
       "      <td>ENTIRE FLOOR! Business travel &amp; fun</td>\n",
       "      <td>2665483</td>\n",
       "      <td>30.296246</td>\n",
       "      <td>-97.750131</td>\n",
       "      <td>Alexandra</td>\n",
       "    </tr>\n",
       "    <tr>\n",
       "      <th>4</th>\n",
       "      <td>2390109</td>\n",
       "      <td>24989361</td>\n",
       "      <td>2015-01-04</td>\n",
       "      <td>3088100</td>\n",
       "      <td>Taylor</td>\n",
       "      <td>This is one of the first times we've been hesi...</td>\n",
       "      <td>ENTIRE FLOOR! Business travel &amp; fun</td>\n",
       "      <td>2665483</td>\n",
       "      <td>30.296246</td>\n",
       "      <td>-97.750131</td>\n",
       "      <td>Alexandra</td>\n",
       "    </tr>\n",
       "    <tr>\n",
       "      <th>...</th>\n",
       "      <td>...</td>\n",
       "      <td>...</td>\n",
       "      <td>...</td>\n",
       "      <td>...</td>\n",
       "      <td>...</td>\n",
       "      <td>...</td>\n",
       "      <td>...</td>\n",
       "      <td>...</td>\n",
       "      <td>...</td>\n",
       "      <td>...</td>\n",
       "      <td>...</td>\n",
       "    </tr>\n",
       "    <tr>\n",
       "      <th>994</th>\n",
       "      <td>347802</td>\n",
       "      <td>27129990</td>\n",
       "      <td>2015-02-26</td>\n",
       "      <td>9049895</td>\n",
       "      <td>Sommer</td>\n",
       "      <td>The bungalow was great. Perfect location. It h...</td>\n",
       "      <td>Hyde Park Bungalow close to UT &amp; DT</td>\n",
       "      <td>1594787</td>\n",
       "      <td>30.302295</td>\n",
       "      <td>-97.728150</td>\n",
       "      <td>Ananda &amp; Dunstan</td>\n",
       "    </tr>\n",
       "    <tr>\n",
       "      <th>995</th>\n",
       "      <td>347802</td>\n",
       "      <td>27508212</td>\n",
       "      <td>2015-03-06</td>\n",
       "      <td>6628407</td>\n",
       "      <td>Jeffrey</td>\n",
       "      <td>Ananda and Dustan communicated very well throu...</td>\n",
       "      <td>Hyde Park Bungalow close to UT &amp; DT</td>\n",
       "      <td>1594787</td>\n",
       "      <td>30.302295</td>\n",
       "      <td>-97.728150</td>\n",
       "      <td>Ananda &amp; Dunstan</td>\n",
       "    </tr>\n",
       "    <tr>\n",
       "      <th>996</th>\n",
       "      <td>347802</td>\n",
       "      <td>27760991</td>\n",
       "      <td>2015-03-11</td>\n",
       "      <td>26351650</td>\n",
       "      <td>Daria</td>\n",
       "      <td>Our family of 4 enjoyed 5 nights at Ananda and...</td>\n",
       "      <td>Hyde Park Bungalow close to UT &amp; DT</td>\n",
       "      <td>1594787</td>\n",
       "      <td>30.302295</td>\n",
       "      <td>-97.728150</td>\n",
       "      <td>Ananda &amp; Dunstan</td>\n",
       "    </tr>\n",
       "    <tr>\n",
       "      <th>997</th>\n",
       "      <td>347802</td>\n",
       "      <td>28872746</td>\n",
       "      <td>2015-03-31</td>\n",
       "      <td>3814076</td>\n",
       "      <td>Deborah</td>\n",
       "      <td>Responded immediately to messages. Stopped by ...</td>\n",
       "      <td>Hyde Park Bungalow close to UT &amp; DT</td>\n",
       "      <td>1594787</td>\n",
       "      <td>30.302295</td>\n",
       "      <td>-97.728150</td>\n",
       "      <td>Ananda &amp; Dunstan</td>\n",
       "    </tr>\n",
       "    <tr>\n",
       "      <th>998</th>\n",
       "      <td>347802</td>\n",
       "      <td>29270181</td>\n",
       "      <td>2015-04-06</td>\n",
       "      <td>2884496</td>\n",
       "      <td>Kim</td>\n",
       "      <td>Lovely home and terrific location!\\r\\nWe loved...</td>\n",
       "      <td>Hyde Park Bungalow close to UT &amp; DT</td>\n",
       "      <td>1594787</td>\n",
       "      <td>30.302295</td>\n",
       "      <td>-97.728150</td>\n",
       "      <td>Ananda &amp; Dunstan</td>\n",
       "    </tr>\n",
       "  </tbody>\n",
       "</table>\n",
       "<p>999 rows × 11 columns</p>\n",
       "</div>"
      ],
      "text/plain": [
       "     listing_id        id        date  reviewer_id reviewer_name  \\\n",
       "0       2390109  22208895  2014-11-01      4358294        Inessa   \n",
       "1       2390109  22619785  2014-11-10     12361335       Colibri   \n",
       "2       2390109  23234873  2014-11-25      6359216      Giuseppe   \n",
       "3       2390109  23338508  2014-11-29     23638127        Sophia   \n",
       "4       2390109  24989361  2015-01-04      3088100        Taylor   \n",
       "..          ...       ...         ...          ...           ...   \n",
       "994      347802  27129990  2015-02-26      9049895        Sommer   \n",
       "995      347802  27508212  2015-03-06      6628407       Jeffrey   \n",
       "996      347802  27760991  2015-03-11     26351650         Daria   \n",
       "997      347802  28872746  2015-03-31      3814076       Deborah   \n",
       "998      347802  29270181  2015-04-06      2884496           Kim   \n",
       "\n",
       "                                                  text  \\\n",
       "0    I had a great time staying here! The room is h...   \n",
       "1    What a wonderful space in a beautiful & quiet ...   \n",
       "2    The reservation was canceled 107 days before a...   \n",
       "3    When I saw the posting and how clean and simpl...   \n",
       "4    This is one of the first times we've been hesi...   \n",
       "..                                                 ...   \n",
       "994  The bungalow was great. Perfect location. It h...   \n",
       "995  Ananda and Dustan communicated very well throu...   \n",
       "996  Our family of 4 enjoyed 5 nights at Ananda and...   \n",
       "997  Responded immediately to messages. Stopped by ...   \n",
       "998  Lovely home and terrific location!\\r\\nWe loved...   \n",
       "\n",
       "                                   title  host_id  listing_latitude  \\\n",
       "0    ENTIRE FLOOR! Business travel & fun  2665483         30.296246   \n",
       "1    ENTIRE FLOOR! Business travel & fun  2665483         30.296246   \n",
       "2    ENTIRE FLOOR! Business travel & fun  2665483         30.296246   \n",
       "3    ENTIRE FLOOR! Business travel & fun  2665483         30.296246   \n",
       "4    ENTIRE FLOOR! Business travel & fun  2665483         30.296246   \n",
       "..                                   ...      ...               ...   \n",
       "994  Hyde Park Bungalow close to UT & DT  1594787         30.302295   \n",
       "995  Hyde Park Bungalow close to UT & DT  1594787         30.302295   \n",
       "996  Hyde Park Bungalow close to UT & DT  1594787         30.302295   \n",
       "997  Hyde Park Bungalow close to UT & DT  1594787         30.302295   \n",
       "998  Hyde Park Bungalow close to UT & DT  1594787         30.302295   \n",
       "\n",
       "     listing_longitude         host_name  \n",
       "0           -97.750131         Alexandra  \n",
       "1           -97.750131         Alexandra  \n",
       "2           -97.750131         Alexandra  \n",
       "3           -97.750131         Alexandra  \n",
       "4           -97.750131         Alexandra  \n",
       "..                 ...               ...  \n",
       "994         -97.728150  Ananda & Dunstan  \n",
       "995         -97.728150  Ananda & Dunstan  \n",
       "996         -97.728150  Ananda & Dunstan  \n",
       "997         -97.728150  Ananda & Dunstan  \n",
       "998         -97.728150  Ananda & Dunstan  \n",
       "\n",
       "[999 rows x 11 columns]"
      ]
     },
     "execution_count": 22,
     "metadata": {},
     "output_type": "execute_result"
    }
   ],
   "source": [
    "# Concatenar todos los DataFrames en uno solo\n",
    "final_df = pd.concat(dfs, ignore_index=True)\n",
    "final_df"
   ]
  }
 ],
 "metadata": {
  "kernelspec": {
   "display_name": "Python 3",
   "language": "python",
   "name": "python3"
  },
  "language_info": {
   "codemirror_mode": {
    "name": "ipython",
    "version": 3
   },
   "file_extension": ".py",
   "mimetype": "text/x-python",
   "name": "python",
   "nbconvert_exporter": "python",
   "pygments_lexer": "ipython3",
   "version": "3.13.1"
  }
 },
 "nbformat": 4,
 "nbformat_minor": 2
}
