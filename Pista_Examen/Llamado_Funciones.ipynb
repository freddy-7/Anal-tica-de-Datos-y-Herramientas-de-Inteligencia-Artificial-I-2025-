{
 "cells": [
  {
   "cell_type": "code",
   "execution_count": 1,
   "metadata": {},
   "outputs": [],
   "source": [
    "#Importamos las librerias pandas, numpy y matplotlib respectivamente\n",
    "import pandas as pd\n",
    "import numpy as np\n",
    "import matplotlib.pyplot as plt\n",
    "import os\n",
    "import Freddy as fd"
   ]
  },
  {
   "cell_type": "code",
   "execution_count": 2,
   "metadata": {},
   "outputs": [],
   "source": [
    "#Se realiza el llamado a la función \"cargar_dataset\" para leer el archivo\n",
    "df=fd.cargar_dataset('Ventas_totales.csv')"
   ]
  },
  {
   "cell_type": "code",
   "execution_count": 3,
   "metadata": {},
   "outputs": [
    {
     "name": "stdout",
     "output_type": "stream",
     "text": [
      "<class 'pandas.core.frame.DataFrame'>\n",
      "RangeIndex: 65 entries, 0 to 64\n",
      "Data columns (total 24 columns):\n",
      " #   Column                               Non-Null Count  Dtype  \n",
      "---  ------                               --------------  -----  \n",
      " 0   indice_tiempo                        65 non-null     object \n",
      " 1   ventas_precios_corrientes            65 non-null     float64\n",
      " 2   ventas_precios_constantes            65 non-null     float64\n",
      " 3   ventas_totales_canal_venta           65 non-null     float64\n",
      " 4   salon_ventas                         59 non-null     float64\n",
      " 5   canales_on_line                      65 non-null     float64\n",
      " 6   ventas_totales_medio_pago            65 non-null     float64\n",
      " 7   efectivo                             65 non-null     float64\n",
      " 8   tarjetas_debito                      64 non-null     float64\n",
      " 9   tarjetas_credito                     58 non-null     float64\n",
      " 10  otros_medios                         64 non-null     float64\n",
      " 11  ventas_totales_grupo_articulos       65 non-null     float64\n",
      " 12  subtotal_ventas_alimentos_bebidas    55 non-null     float64\n",
      " 13  bebidas                              64 non-null     float64\n",
      " 14  almacen                              63 non-null     float64\n",
      " 15  panaderia                            64 non-null     float64\n",
      " 16  lacteos                              64 non-null     float64\n",
      " 17  carnes                               64 non-null     float64\n",
      " 18  verduleria_fruteria                  64 non-null     float64\n",
      " 19  alimentos_preparados_rotiseria       64 non-null     float64\n",
      " 20  articulos_limpieza_perfumeria        65 non-null     float64\n",
      " 21  indumentaria_calzado_textiles_hogar  63 non-null     float64\n",
      " 22  electronicos_articulos_hogar         62 non-null     float64\n",
      " 23  otros                                61 non-null     float64\n",
      "dtypes: float64(23), object(1)\n",
      "memory usage: 12.3+ KB\n"
     ]
    }
   ],
   "source": [
    "#Se obtiene la información general del dataframe\n",
    "df.info()"
   ]
  },
  {
   "cell_type": "code",
   "execution_count": 4,
   "metadata": {},
   "outputs": [],
   "source": [
    "#Se realiza el llamado a la función \"nulos_prom\" para sustituir\n",
    "#los valores nulos por el promedio en una columna especifica \n",
    "df=fd.nulos_prom(df, 'otros')"
   ]
  },
  {
   "cell_type": "code",
   "execution_count": 5,
   "metadata": {},
   "outputs": [
    {
     "data": {
      "text/plain": [
       "('Valores nulos por columna',\n",
       " indice_tiempo                           0\n",
       " ventas_precios_corrientes               0\n",
       " ventas_precios_constantes               0\n",
       " ventas_totales_canal_venta              0\n",
       " salon_ventas                            6\n",
       " canales_on_line                         0\n",
       " ventas_totales_medio_pago               0\n",
       " efectivo                                0\n",
       " tarjetas_debito                         1\n",
       " tarjetas_credito                        7\n",
       " otros_medios                            1\n",
       " ventas_totales_grupo_articulos          0\n",
       " subtotal_ventas_alimentos_bebidas      10\n",
       " bebidas                                 1\n",
       " almacen                                 2\n",
       " panaderia                               1\n",
       " lacteos                                 1\n",
       " carnes                                  1\n",
       " verduleria_fruteria                     1\n",
       " alimentos_preparados_rotiseria          1\n",
       " articulos_limpieza_perfumeria           0\n",
       " indumentaria_calzado_textiles_hogar     2\n",
       " electronicos_articulos_hogar            3\n",
       " otros                                   0\n",
       " dtype: int64,\n",
       " 'Valores nulos por dataframe',\n",
       " np.int64(38))"
      ]
     },
     "execution_count": 5,
     "metadata": {},
     "output_type": "execute_result"
    }
   ],
   "source": [
    "#Se realiza el llamado a la función \"cuenta_nulos\" para identificar nulos\n",
    "nulos=fd.cuenta_nulos(df)\n",
    "nulos"
   ]
  },
  {
   "cell_type": "code",
   "execution_count": 6,
   "metadata": {},
   "outputs": [],
   "source": [
    "#Se realiza el llamado a la función \"nulos_prom\" para sustituir\n",
    "#los valores nulos por el promedio en todas las columnas numericas\n",
    "df=fd.nulos_prom_df(df)"
   ]
  },
  {
   "cell_type": "code",
   "execution_count": null,
   "metadata": {},
   "outputs": [],
   "source": [
    "#Se realiza el llamado a la función \"cuenta_nulos\" para identificar nulos\n",
    "nulos=fd.cuenta_nulos(df)\n",
    "nulos"
   ]
  }
 ],
 "metadata": {
  "kernelspec": {
   "display_name": "Python 3",
   "language": "python",
   "name": "python3"
  },
  "language_info": {
   "codemirror_mode": {
    "name": "ipython",
    "version": 3
   },
   "file_extension": ".py",
   "mimetype": "text/x-python",
   "name": "python",
   "nbconvert_exporter": "python",
   "pygments_lexer": "ipython3",
   "version": "3.13.1"
  }
 },
 "nbformat": 4,
 "nbformat_minor": 2
}
