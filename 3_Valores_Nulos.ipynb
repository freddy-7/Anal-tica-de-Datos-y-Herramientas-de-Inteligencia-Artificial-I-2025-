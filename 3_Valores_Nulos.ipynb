{
  "cells": [
    {
      "cell_type": "markdown",
      "metadata": {
        "colab_type": "text",
        "id": "view-in-github"
      },
      "source": [
        "<a href=\"https://colab.research.google.com/github/freddy-7/TI3002C/blob/main/2_Valores_Nulos.ipynb\" target=\"_parent\"><img src=\"https://colab.research.google.com/assets/colab-badge.svg\" alt=\"Open In Colab\"/></a>"
      ]
    },
    {
      "cell_type": "code",
      "execution_count": 1,
      "metadata": {
        "id": "nVmUdMye-2LC"
      },
      "outputs": [],
      "source": [
        "#Importamos las librerias pandas, numpy y matplotlib respectivamente\n",
        "import pandas as pd\n",
        "import numpy as np\n",
        "import matplotlib.pyplot as plt"
      ]
    },
    {
      "cell_type": "markdown",
      "metadata": {
        "id": "ppkIN7YD9OCO"
      },
      "source": [
        "**VALORES NULOS**"
      ]
    },
    {
      "cell_type": "code",
      "execution_count": null,
      "metadata": {
        "id": "SJqO09PDA0lS"
      },
      "outputs": [],
      "source": [
        "#Cargar archivo csv desde COLAB\n",
        "from google.colab import files\n",
        "files.upload()"
      ]
    },
    {
      "cell_type": "code",
      "execution_count": null,
      "metadata": {
        "id": "ju4zTK1qA7Zb"
      },
      "outputs": [],
      "source": [
        "#Carga desde un archivo .csv sin indice\n",
        "data = pd.read_csv('inmuebles2.csv')\n",
        "data.head(5)"
      ]
    },
    {
      "cell_type": "code",
      "execution_count": 5,
      "metadata": {
        "id": "X10o4y31A_pn"
      },
      "outputs": [
        {
          "data": {
            "text/html": [
              "<div>\n",
              "<style scoped>\n",
              "    .dataframe tbody tr th:only-of-type {\n",
              "        vertical-align: middle;\n",
              "    }\n",
              "\n",
              "    .dataframe tbody tr th {\n",
              "        vertical-align: top;\n",
              "    }\n",
              "\n",
              "    .dataframe thead th {\n",
              "        text-align: right;\n",
              "    }\n",
              "</style>\n",
              "<table border=\"1\" class=\"dataframe\">\n",
              "  <thead>\n",
              "    <tr style=\"text-align: right;\">\n",
              "      <th></th>\n",
              "      <th>0</th>\n",
              "      <th>Referencia</th>\n",
              "      <th>Fecha Alta</th>\n",
              "      <th>Tipo</th>\n",
              "      <th>Operación</th>\n",
              "      <th>Provincia</th>\n",
              "      <th>Superficie</th>\n",
              "      <th>Precio Venta</th>\n",
              "      <th>Fecha Venta</th>\n",
              "      <th>Vendedor</th>\n",
              "    </tr>\n",
              "  </thead>\n",
              "  <tbody>\n",
              "    <tr>\n",
              "      <th>0</th>\n",
              "      <td>1</td>\n",
              "      <td>1</td>\n",
              "      <td>2004-01-01 00:00:00</td>\n",
              "      <td>Parking</td>\n",
              "      <td>Alquiler</td>\n",
              "      <td>Lleida</td>\n",
              "      <td>291.0</td>\n",
              "      <td>2133903.0</td>\n",
              "      <td>2004-06-19 00:00:00</td>\n",
              "      <td>Carmen</td>\n",
              "    </tr>\n",
              "    <tr>\n",
              "      <th>1</th>\n",
              "      <td>2</td>\n",
              "      <td>2</td>\n",
              "      <td>2004-01-01 00:00:00</td>\n",
              "      <td>Local</td>\n",
              "      <td>Venta</td>\n",
              "      <td>Girona</td>\n",
              "      <td>185.0</td>\n",
              "      <td>1945424.0</td>\n",
              "      <td>2004-04-19 00:00:00</td>\n",
              "      <td>Pedro</td>\n",
              "    </tr>\n",
              "    <tr>\n",
              "      <th>2</th>\n",
              "      <td>3</td>\n",
              "      <td>3</td>\n",
              "      <td>2004-01-01 00:00:00</td>\n",
              "      <td>Oficina</td>\n",
              "      <td>Alquiler</td>\n",
              "      <td>Girona</td>\n",
              "      <td>82.0</td>\n",
              "      <td>NaN</td>\n",
              "      <td>2004-11-08 00:00:00</td>\n",
              "      <td>Joaquín</td>\n",
              "    </tr>\n",
              "    <tr>\n",
              "      <th>3</th>\n",
              "      <td>4</td>\n",
              "      <td>4</td>\n",
              "      <td>2004-01-02 00:00:00</td>\n",
              "      <td>Parking</td>\n",
              "      <td>Alquiler</td>\n",
              "      <td>Girona</td>\n",
              "      <td>285.0</td>\n",
              "      <td>NaN</td>\n",
              "      <td>2004-04-27 00:00:00</td>\n",
              "      <td>Jesús</td>\n",
              "    </tr>\n",
              "    <tr>\n",
              "      <th>4</th>\n",
              "      <td>5</td>\n",
              "      <td>5</td>\n",
              "      <td>2004-01-02 00:00:00</td>\n",
              "      <td>Suelo</td>\n",
              "      <td>Venta</td>\n",
              "      <td>Tarragona</td>\n",
              "      <td>152.0</td>\n",
              "      <td>185000.0</td>\n",
              "      <td>2004-07-10 00:00:00</td>\n",
              "      <td>María</td>\n",
              "    </tr>\n",
              "    <tr>\n",
              "      <th>...</th>\n",
              "      <td>...</td>\n",
              "      <td>...</td>\n",
              "      <td>...</td>\n",
              "      <td>...</td>\n",
              "      <td>...</td>\n",
              "      <td>...</td>\n",
              "      <td>...</td>\n",
              "      <td>...</td>\n",
              "      <td>...</td>\n",
              "      <td>...</td>\n",
              "    </tr>\n",
              "    <tr>\n",
              "      <th>3332</th>\n",
              "      <td>3333</td>\n",
              "      <td>3333</td>\n",
              "      <td>2007-04-29 00:00:00</td>\n",
              "      <td>Industrial</td>\n",
              "      <td>Alquiler</td>\n",
              "      <td>Lleida</td>\n",
              "      <td>221.0</td>\n",
              "      <td>1450644.0</td>\n",
              "      <td>NaN</td>\n",
              "      <td>NaN</td>\n",
              "    </tr>\n",
              "    <tr>\n",
              "      <th>3333</th>\n",
              "      <td>3334</td>\n",
              "      <td>3334</td>\n",
              "      <td>2007-04-29 00:00:00</td>\n",
              "      <td>Piso</td>\n",
              "      <td>Alquiler</td>\n",
              "      <td>Girona</td>\n",
              "      <td>55.0</td>\n",
              "      <td>454080.0</td>\n",
              "      <td>NaN</td>\n",
              "      <td>NaN</td>\n",
              "    </tr>\n",
              "    <tr>\n",
              "      <th>3334</th>\n",
              "      <td>3335</td>\n",
              "      <td>3335</td>\n",
              "      <td>2007-04-30 00:00:00</td>\n",
              "      <td>Suelo</td>\n",
              "      <td>Venta</td>\n",
              "      <td>Tarragona</td>\n",
              "      <td>78.0</td>\n",
              "      <td>740688.0</td>\n",
              "      <td>NaN</td>\n",
              "      <td>NaN</td>\n",
              "    </tr>\n",
              "    <tr>\n",
              "      <th>3335</th>\n",
              "      <td>3336</td>\n",
              "      <td>3336</td>\n",
              "      <td>2007-04-30 00:00:00</td>\n",
              "      <td>Piso</td>\n",
              "      <td>Alquiler</td>\n",
              "      <td>Barcelona</td>\n",
              "      <td>88.0</td>\n",
              "      <td>397408.0</td>\n",
              "      <td>NaN</td>\n",
              "      <td>NaN</td>\n",
              "    </tr>\n",
              "    <tr>\n",
              "      <th>3336</th>\n",
              "      <td>3337</td>\n",
              "      <td>3337</td>\n",
              "      <td>2007-04-30 00:00:00</td>\n",
              "      <td>Parking</td>\n",
              "      <td>Venta</td>\n",
              "      <td>Lleida</td>\n",
              "      <td>NaN</td>\n",
              "      <td>2140712.0</td>\n",
              "      <td>NaN</td>\n",
              "      <td>NaN</td>\n",
              "    </tr>\n",
              "  </tbody>\n",
              "</table>\n",
              "<p>3337 rows × 10 columns</p>\n",
              "</div>"
            ],
            "text/plain": [
              "         0  Referencia           Fecha Alta        Tipo Operación  Provincia  \\\n",
              "0        1           1  2004-01-01 00:00:00     Parking  Alquiler     Lleida   \n",
              "1        2           2  2004-01-01 00:00:00       Local     Venta     Girona   \n",
              "2        3           3  2004-01-01 00:00:00     Oficina  Alquiler     Girona   \n",
              "3        4           4  2004-01-02 00:00:00     Parking  Alquiler     Girona   \n",
              "4        5           5  2004-01-02 00:00:00       Suelo     Venta  Tarragona   \n",
              "...    ...         ...                  ...         ...       ...        ...   \n",
              "3332  3333        3333  2007-04-29 00:00:00  Industrial  Alquiler     Lleida   \n",
              "3333  3334        3334  2007-04-29 00:00:00        Piso  Alquiler     Girona   \n",
              "3334  3335        3335  2007-04-30 00:00:00       Suelo     Venta  Tarragona   \n",
              "3335  3336        3336  2007-04-30 00:00:00        Piso  Alquiler  Barcelona   \n",
              "3336  3337        3337  2007-04-30 00:00:00     Parking     Venta     Lleida   \n",
              "\n",
              "      Superficie  Precio Venta          Fecha Venta Vendedor  \n",
              "0          291.0     2133903.0  2004-06-19 00:00:00   Carmen  \n",
              "1          185.0     1945424.0  2004-04-19 00:00:00    Pedro  \n",
              "2           82.0           NaN  2004-11-08 00:00:00  Joaquín  \n",
              "3          285.0           NaN  2004-04-27 00:00:00    Jesús  \n",
              "4          152.0      185000.0  2004-07-10 00:00:00    María  \n",
              "...          ...           ...                  ...      ...  \n",
              "3332       221.0     1450644.0                  NaN      NaN  \n",
              "3333        55.0      454080.0                  NaN      NaN  \n",
              "3334        78.0      740688.0                  NaN      NaN  \n",
              "3335        88.0      397408.0                  NaN      NaN  \n",
              "3336         NaN     2140712.0                  NaN      NaN  \n",
              "\n",
              "[3337 rows x 10 columns]"
            ]
          },
          "execution_count": 5,
          "metadata": {},
          "output_type": "execute_result"
        }
      ],
      "source": [
        "#Eliminar primera fila o filas innecesarias\n",
        "data1= pd.read_csv('inmuebles2.csv', skiprows=1)\n",
        "data1"
      ]
    },
    {
      "cell_type": "code",
      "execution_count": 6,
      "metadata": {
        "id": "R6VgHZUJBEWf"
      },
      "outputs": [
        {
          "data": {
            "text/html": [
              "<div>\n",
              "<style scoped>\n",
              "    .dataframe tbody tr th:only-of-type {\n",
              "        vertical-align: middle;\n",
              "    }\n",
              "\n",
              "    .dataframe tbody tr th {\n",
              "        vertical-align: top;\n",
              "    }\n",
              "\n",
              "    .dataframe thead th {\n",
              "        text-align: right;\n",
              "    }\n",
              "</style>\n",
              "<table border=\"1\" class=\"dataframe\">\n",
              "  <thead>\n",
              "    <tr style=\"text-align: right;\">\n",
              "      <th></th>\n",
              "      <th>Fecha Alta</th>\n",
              "      <th>Tipo</th>\n",
              "      <th>Operación</th>\n",
              "      <th>Provincia</th>\n",
              "      <th>Superficie</th>\n",
              "      <th>Precio Venta</th>\n",
              "      <th>Fecha Venta</th>\n",
              "      <th>Vendedor</th>\n",
              "    </tr>\n",
              "  </thead>\n",
              "  <tbody>\n",
              "    <tr>\n",
              "      <th>0</th>\n",
              "      <td>2004-01-01 00:00:00</td>\n",
              "      <td>Parking</td>\n",
              "      <td>Alquiler</td>\n",
              "      <td>Lleida</td>\n",
              "      <td>291.0</td>\n",
              "      <td>2133903.0</td>\n",
              "      <td>2004-06-19 00:00:00</td>\n",
              "      <td>Carmen</td>\n",
              "    </tr>\n",
              "    <tr>\n",
              "      <th>1</th>\n",
              "      <td>2004-01-01 00:00:00</td>\n",
              "      <td>Local</td>\n",
              "      <td>Venta</td>\n",
              "      <td>Girona</td>\n",
              "      <td>185.0</td>\n",
              "      <td>1945424.0</td>\n",
              "      <td>2004-04-19 00:00:00</td>\n",
              "      <td>Pedro</td>\n",
              "    </tr>\n",
              "    <tr>\n",
              "      <th>2</th>\n",
              "      <td>2004-01-01 00:00:00</td>\n",
              "      <td>Oficina</td>\n",
              "      <td>Alquiler</td>\n",
              "      <td>Girona</td>\n",
              "      <td>82.0</td>\n",
              "      <td>NaN</td>\n",
              "      <td>2004-11-08 00:00:00</td>\n",
              "      <td>Joaquín</td>\n",
              "    </tr>\n",
              "    <tr>\n",
              "      <th>3</th>\n",
              "      <td>2004-01-02 00:00:00</td>\n",
              "      <td>Parking</td>\n",
              "      <td>Alquiler</td>\n",
              "      <td>Girona</td>\n",
              "      <td>285.0</td>\n",
              "      <td>NaN</td>\n",
              "      <td>2004-04-27 00:00:00</td>\n",
              "      <td>Jesús</td>\n",
              "    </tr>\n",
              "    <tr>\n",
              "      <th>4</th>\n",
              "      <td>2004-01-02 00:00:00</td>\n",
              "      <td>Suelo</td>\n",
              "      <td>Venta</td>\n",
              "      <td>Tarragona</td>\n",
              "      <td>152.0</td>\n",
              "      <td>185000.0</td>\n",
              "      <td>2004-07-10 00:00:00</td>\n",
              "      <td>María</td>\n",
              "    </tr>\n",
              "    <tr>\n",
              "      <th>...</th>\n",
              "      <td>...</td>\n",
              "      <td>...</td>\n",
              "      <td>...</td>\n",
              "      <td>...</td>\n",
              "      <td>...</td>\n",
              "      <td>...</td>\n",
              "      <td>...</td>\n",
              "      <td>...</td>\n",
              "    </tr>\n",
              "    <tr>\n",
              "      <th>3332</th>\n",
              "      <td>2007-04-29 00:00:00</td>\n",
              "      <td>Industrial</td>\n",
              "      <td>Alquiler</td>\n",
              "      <td>Lleida</td>\n",
              "      <td>221.0</td>\n",
              "      <td>1450644.0</td>\n",
              "      <td>NaN</td>\n",
              "      <td>NaN</td>\n",
              "    </tr>\n",
              "    <tr>\n",
              "      <th>3333</th>\n",
              "      <td>2007-04-29 00:00:00</td>\n",
              "      <td>Piso</td>\n",
              "      <td>Alquiler</td>\n",
              "      <td>Girona</td>\n",
              "      <td>55.0</td>\n",
              "      <td>454080.0</td>\n",
              "      <td>NaN</td>\n",
              "      <td>NaN</td>\n",
              "    </tr>\n",
              "    <tr>\n",
              "      <th>3334</th>\n",
              "      <td>2007-04-30 00:00:00</td>\n",
              "      <td>Suelo</td>\n",
              "      <td>Venta</td>\n",
              "      <td>Tarragona</td>\n",
              "      <td>78.0</td>\n",
              "      <td>740688.0</td>\n",
              "      <td>NaN</td>\n",
              "      <td>NaN</td>\n",
              "    </tr>\n",
              "    <tr>\n",
              "      <th>3335</th>\n",
              "      <td>2007-04-30 00:00:00</td>\n",
              "      <td>Piso</td>\n",
              "      <td>Alquiler</td>\n",
              "      <td>Barcelona</td>\n",
              "      <td>88.0</td>\n",
              "      <td>397408.0</td>\n",
              "      <td>NaN</td>\n",
              "      <td>NaN</td>\n",
              "    </tr>\n",
              "    <tr>\n",
              "      <th>3336</th>\n",
              "      <td>2007-04-30 00:00:00</td>\n",
              "      <td>Parking</td>\n",
              "      <td>Venta</td>\n",
              "      <td>Lleida</td>\n",
              "      <td>NaN</td>\n",
              "      <td>2140712.0</td>\n",
              "      <td>NaN</td>\n",
              "      <td>NaN</td>\n",
              "    </tr>\n",
              "  </tbody>\n",
              "</table>\n",
              "<p>3337 rows × 8 columns</p>\n",
              "</div>"
            ],
            "text/plain": [
              "               Fecha Alta        Tipo Operación  Provincia  Superficie  \\\n",
              "0     2004-01-01 00:00:00     Parking  Alquiler     Lleida       291.0   \n",
              "1     2004-01-01 00:00:00       Local     Venta     Girona       185.0   \n",
              "2     2004-01-01 00:00:00     Oficina  Alquiler     Girona        82.0   \n",
              "3     2004-01-02 00:00:00     Parking  Alquiler     Girona       285.0   \n",
              "4     2004-01-02 00:00:00       Suelo     Venta  Tarragona       152.0   \n",
              "...                   ...         ...       ...        ...         ...   \n",
              "3332  2007-04-29 00:00:00  Industrial  Alquiler     Lleida       221.0   \n",
              "3333  2007-04-29 00:00:00        Piso  Alquiler     Girona        55.0   \n",
              "3334  2007-04-30 00:00:00       Suelo     Venta  Tarragona        78.0   \n",
              "3335  2007-04-30 00:00:00        Piso  Alquiler  Barcelona        88.0   \n",
              "3336  2007-04-30 00:00:00     Parking     Venta     Lleida         NaN   \n",
              "\n",
              "      Precio Venta          Fecha Venta Vendedor  \n",
              "0        2133903.0  2004-06-19 00:00:00   Carmen  \n",
              "1        1945424.0  2004-04-19 00:00:00    Pedro  \n",
              "2              NaN  2004-11-08 00:00:00  Joaquín  \n",
              "3              NaN  2004-04-27 00:00:00    Jesús  \n",
              "4         185000.0  2004-07-10 00:00:00    María  \n",
              "...            ...                  ...      ...  \n",
              "3332     1450644.0                  NaN      NaN  \n",
              "3333      454080.0                  NaN      NaN  \n",
              "3334      740688.0                  NaN      NaN  \n",
              "3335      397408.0                  NaN      NaN  \n",
              "3336     2140712.0                  NaN      NaN  \n",
              "\n",
              "[3337 rows x 8 columns]"
            ]
          },
          "execution_count": 6,
          "metadata": {},
          "output_type": "execute_result"
        }
      ],
      "source": [
        "#Eliminar columnas innecesarias\n",
        "#axis = 1 para columnas\n",
        "#axis = 0 para filas\n",
        "data2= data1.drop(['0','Referencia'], axis=1)\n",
        "data2"
      ]
    },
    {
      "cell_type": "code",
      "execution_count": 7,
      "metadata": {
        "id": "0-dWeOUHBIkq"
      },
      "outputs": [
        {
          "data": {
            "text/plain": [
              "Fecha Alta        2\n",
              "Tipo              2\n",
              "Operación         1\n",
              "Provincia         4\n",
              "Superficie        4\n",
              "Precio Venta      6\n",
              "Fecha Venta     578\n",
              "Vendedor        578\n",
              "dtype: int64"
            ]
          },
          "execution_count": 7,
          "metadata": {},
          "output_type": "execute_result"
        }
      ],
      "source": [
        "#Identificar valores nulos por columna\n",
        "valores_nulos=data2.isnull().sum()\n",
        "valores_nulos"
      ]
    },
    {
      "cell_type": "code",
      "execution_count": 8,
      "metadata": {
        "id": "CY6wFkDvYtrD"
      },
      "outputs": [
        {
          "data": {
            "text/plain": [
              "np.int64(1175)"
            ]
          },
          "execution_count": 8,
          "metadata": {},
          "output_type": "execute_result"
        }
      ],
      "source": [
        "#Identificar valores nulos por dataframe\n",
        "valores_nulos=data2.isnull().sum().sum()\n",
        "valores_nulos"
      ]
    },
    {
      "cell_type": "markdown",
      "metadata": {
        "id": "XncKYOfkBl1y"
      },
      "source": [
        "**Métodos de Sustitución de Valores Nulos**"
      ]
    },
    {
      "cell_type": "code",
      "execution_count": 9,
      "metadata": {
        "id": "zMJieQa6Bntp"
      },
      "outputs": [],
      "source": [
        "#Realizamos una copia del dataframe\n",
        "data3=data2.copy()"
      ]
    },
    {
      "cell_type": "code",
      "execution_count": 10,
      "metadata": {
        "id": "sabbsa7jBp_8"
      },
      "outputs": [],
      "source": [
        "#Primer método de sustitución de valores nulos\n",
        "#Sustituir valores nulos con promedio o media\n",
        "data3[\"Superficie\"]=data3[\"Superficie\"].fillna(round(data2[\"Superficie\"].mean(),1))"
      ]
    },
    {
      "cell_type": "code",
      "execution_count": null,
      "metadata": {
        "id": "ABDcOFMCByzN"
      },
      "outputs": [],
      "source": [
        "#Corroboramos valores nulos\n",
        "valores_nulos=data3.isnull().sum()\n",
        "valores_nulos"
      ]
    },
    {
      "cell_type": "code",
      "execution_count": 12,
      "metadata": {
        "id": "LOyclP5_CHOI"
      },
      "outputs": [],
      "source": [
        "#Segundo método de sustitución de valores nulos\n",
        "#Sustituir valores nulos con mediana\n",
        "data3[\"Precio Venta\"]=data3[\"Precio Venta\"].fillna(round(data2[\"Precio Venta\"].median(),1))"
      ]
    },
    {
      "cell_type": "code",
      "execution_count": null,
      "metadata": {
        "id": "THpDQu3bCJuG"
      },
      "outputs": [],
      "source": [
        "#Corroboramos valores nulos\n",
        "valores_nulos=data3.isnull().sum()\n",
        "valores_nulos"
      ]
    },
    {
      "cell_type": "code",
      "execution_count": null,
      "metadata": {
        "id": "uQh5A6NeCP_f"
      },
      "outputs": [],
      "source": [
        "#Tercer método de sustitución de valores nulos\n",
        "#Sustituir valores nulos por un valor numérico en  concreto \n",
        "data3[\"Fecha Alta\"]= data3[\"Fecha Alta\"].fillna(10) \n",
        "data3"
      ]
    },
    {
      "cell_type": "code",
      "execution_count": 16,
      "metadata": {
        "id": "dTndvZp0CUfp"
      },
      "outputs": [
        {
          "data": {
            "text/plain": [
              "Fecha Alta        0\n",
              "Tipo              2\n",
              "Operación         1\n",
              "Provincia         4\n",
              "Superficie        0\n",
              "Precio Venta      0\n",
              "Fecha Venta     578\n",
              "Vendedor        578\n",
              "dtype: int64"
            ]
          },
          "execution_count": 16,
          "metadata": {},
          "output_type": "execute_result"
        }
      ],
      "source": [
        "#Corroboramos valores nulos\n",
        "valores_nulos=data3.isnull().sum()\n",
        "valores_nulos"
      ]
    },
    {
      "cell_type": "code",
      "execution_count": 17,
      "metadata": {
        "id": "33kIKvcYRdpd"
      },
      "outputs": [],
      "source": [
        "#Cuarto método de sustitución de valores nulos\n",
        "#Sustituir valores nulos por un string en  concreto \n",
        "data3[\"Fecha Venta\"] =data3[\"Fecha Venta\"].fillna(\"2030-06-19 00:00:00\") "
      ]
    },
    {
      "cell_type": "code",
      "execution_count": 18,
      "metadata": {
        "id": "kXf-TVUiRhUV"
      },
      "outputs": [
        {
          "data": {
            "text/plain": [
              "Fecha Alta        0\n",
              "Tipo              2\n",
              "Operación         1\n",
              "Provincia         4\n",
              "Superficie        0\n",
              "Precio Venta      0\n",
              "Fecha Venta       0\n",
              "Vendedor        578\n",
              "dtype: int64"
            ]
          },
          "execution_count": 18,
          "metadata": {},
          "output_type": "execute_result"
        }
      ],
      "source": [
        "#Corroboramos valores nulos\n",
        "valores_nulos=data3.isnull().sum()\n",
        "valores_nulos"
      ]
    },
    {
      "cell_type": "code",
      "execution_count": 19,
      "metadata": {
        "id": "bfA8VF0RRixF"
      },
      "outputs": [
        {
          "name": "stderr",
          "output_type": "stream",
          "text": [
            "C:\\Users\\alfre\\AppData\\Local\\Temp\\ipykernel_16936\\4097941768.py:4: FutureWarning: Series.fillna with 'method' is deprecated and will raise in a future version. Use obj.ffill() or obj.bfill() instead.\n",
            "  data3[\"Tipo\"] =data3[\"Tipo\"].fillna(method=\"ffill\")\n"
          ]
        }
      ],
      "source": [
        "#Quinto método de sustitución de valores nulos\n",
        "#Sustituir valores nulos por valores no nulos hacia adelante  \"forward fill\" (\"ffill\")\n",
        "#Filtro por columnas\n",
        "data3[\"Tipo\"] =data3[\"Tipo\"].fillna(method=\"ffill\") "
      ]
    },
    {
      "cell_type": "code",
      "execution_count": 20,
      "metadata": {
        "id": "8FAFBdSZRk30"
      },
      "outputs": [
        {
          "data": {
            "text/plain": [
              "Fecha Alta        0\n",
              "Tipo              0\n",
              "Operación         1\n",
              "Provincia         4\n",
              "Superficie        0\n",
              "Precio Venta      0\n",
              "Fecha Venta       0\n",
              "Vendedor        578\n",
              "dtype: int64"
            ]
          },
          "execution_count": 20,
          "metadata": {},
          "output_type": "execute_result"
        }
      ],
      "source": [
        "#Corroboramos valores nulos\n",
        "valores_nulos=data3.isnull().sum()\n",
        "valores_nulos"
      ]
    },
    {
      "cell_type": "code",
      "execution_count": null,
      "metadata": {
        "id": "j7WxGmhyRpsp"
      },
      "outputs": [],
      "source": [
        "#Sexto método de sustitución de valores nulos\n",
        "#Sustituir valores nulos por valores no nulos hacia atrás backward fill\" (\"bfill\")\n",
        "#Filtro por columnas\n",
        "data3[\"Operación\"] =data3[\"Operación\"].fillna(method=\"bfill\") "
      ]
    },
    {
      "cell_type": "code",
      "execution_count": null,
      "metadata": {
        "id": "V0uExR9DSGw7"
      },
      "outputs": [],
      "source": [
        "#Corroboramos valores nulos\n",
        "valores_nulos=data3.isnull().sum()\n",
        "valores_nulos"
      ]
    },
    {
      "cell_type": "code",
      "execution_count": null,
      "metadata": {
        "id": "8PIaeNzySMUu"
      },
      "outputs": [],
      "source": [
        "#Sustituir valores nulos por valores no nulos hacia atrás backward fill\" (\"bfill\")\n",
        "data3[\"Provincia\"] =data3[\"Provincia\"].fillna(method=\"bfill\") "
      ]
    },
    {
      "cell_type": "code",
      "execution_count": null,
      "metadata": {
        "id": "bgsLUv4nSOlu"
      },
      "outputs": [],
      "source": [
        "#Corroboramos valores nulos\n",
        "valores_nulos=data3.isnull().sum()\n",
        "valores_nulos"
      ]
    },
    {
      "cell_type": "code",
      "execution_count": null,
      "metadata": {
        "id": "trJXIQb6SQhS"
      },
      "outputs": [],
      "source": [
        "#Sustituir valores nulos por valores no nulos hacia adelante forward fill\" (\"ffill\")\n",
        "#Filtro por columnas\n",
        "data3[\"Vendedor\"] =data3[\"Vendedor\"].fillna(method=\"ffill\") "
      ]
    },
    {
      "cell_type": "code",
      "execution_count": null,
      "metadata": {
        "id": "vVHUi50TSSC4"
      },
      "outputs": [],
      "source": [
        "#Corroboramos valores nulos\n",
        "valores_nulos=data3.isnull().sum()\n",
        "valores_nulos"
      ]
    },
    {
      "cell_type": "code",
      "execution_count": 27,
      "metadata": {
        "colab": {
          "base_uri": "https://localhost:8080/"
        },
        "id": "cc0Fkd0pSUx2",
        "outputId": "38dcc567-60bf-4959-9baa-71163021eff2"
      },
      "outputs": [
        {
          "data": {
            "text/plain": [
              "np.int64(0)"
            ]
          },
          "execution_count": 27,
          "metadata": {},
          "output_type": "execute_result"
        }
      ],
      "source": [
        "#Corroboramos valores nulos en todo el dataframe\n",
        "valores_nulos=data3.isnull().sum().sum()\n",
        "valores_nulos"
      ]
    },
    {
      "cell_type": "markdown",
      "metadata": {
        "id": "tCVIsa43Sa6H"
      },
      "source": [
        "**Método de Eliminación de valores nulos**"
      ]
    },
    {
      "cell_type": "code",
      "execution_count": 28,
      "metadata": {
        "id": "be7xUcTLSbyO"
      },
      "outputs": [
        {
          "data": {
            "text/plain": [
              "Fecha Alta        2\n",
              "Tipo              2\n",
              "Operación         1\n",
              "Provincia         4\n",
              "Superficie        4\n",
              "Precio Venta      6\n",
              "Fecha Venta     578\n",
              "Vendedor        578\n",
              "dtype: int64"
            ]
          },
          "execution_count": 28,
          "metadata": {},
          "output_type": "execute_result"
        }
      ],
      "source": [
        "#Identificar valores nulos por columna\n",
        "valores_nulos=data2.isnull().sum()\n",
        "valores_nulos"
      ]
    },
    {
      "cell_type": "code",
      "execution_count": null,
      "metadata": {
        "id": "Okb0eRLHSezZ"
      },
      "outputs": [],
      "source": [
        "#Realizamos una copia del dataframe\n",
        "data4=data2.copy()\n",
        "data4"
      ]
    },
    {
      "cell_type": "code",
      "execution_count": null,
      "metadata": {
        "id": "qcfpheQTSgeJ"
      },
      "outputs": [],
      "source": [
        "#Eliminamos filas con nulos\n",
        "#No se agrega nada para eliminar filas y 1 para eliminar columnas\n",
        "data4= data2.dropna()\n",
        "data4"
      ]
    },
    {
      "cell_type": "code",
      "execution_count": null,
      "metadata": {
        "id": "9_X658RUSqyZ"
      },
      "outputs": [],
      "source": [
        "#Identificar valores nulos por columna\n",
        "valores_nulos=data4.isnull().sum()\n",
        "valores_nulos"
      ]
    },
    {
      "cell_type": "markdown",
      "metadata": {
        "id": "eE_KwtvDSvi0"
      },
      "source": [
        "**Comparamos DataFrame3(Sustitución) y Dataframe4(Eliminación)**"
      ]
    },
    {
      "cell_type": "code",
      "execution_count": 33,
      "metadata": {
        "id": "VgWmvhieSwUr"
      },
      "outputs": [
        {
          "name": "stdout",
          "output_type": "stream",
          "text": [
            "<class 'pandas.core.frame.DataFrame'>\n",
            "RangeIndex: 3337 entries, 0 to 3336\n",
            "Data columns (total 8 columns):\n",
            " #   Column        Non-Null Count  Dtype  \n",
            "---  ------        --------------  -----  \n",
            " 0   Fecha Alta    3337 non-null   object \n",
            " 1   Tipo          3337 non-null   object \n",
            " 2   Operación     3337 non-null   object \n",
            " 3   Provincia     3337 non-null   object \n",
            " 4   Superficie    3337 non-null   float64\n",
            " 5   Precio Venta  3337 non-null   float64\n",
            " 6   Fecha Venta   3337 non-null   object \n",
            " 7   Vendedor      3337 non-null   object \n",
            "dtypes: float64(2), object(6)\n",
            "memory usage: 208.7+ KB\n"
          ]
        }
      ],
      "source": [
        "data3.info()"
      ]
    },
    {
      "cell_type": "code",
      "execution_count": 34,
      "metadata": {
        "id": "xflAytJwSx8H"
      },
      "outputs": [
        {
          "name": "stdout",
          "output_type": "stream",
          "text": [
            "<class 'pandas.core.frame.DataFrame'>\n",
            "Index: 2747 entries, 0 to 3045\n",
            "Data columns (total 8 columns):\n",
            " #   Column        Non-Null Count  Dtype  \n",
            "---  ------        --------------  -----  \n",
            " 0   Fecha Alta    2747 non-null   object \n",
            " 1   Tipo          2747 non-null   object \n",
            " 2   Operación     2747 non-null   object \n",
            " 3   Provincia     2747 non-null   object \n",
            " 4   Superficie    2747 non-null   float64\n",
            " 5   Precio Venta  2747 non-null   float64\n",
            " 6   Fecha Venta   2747 non-null   object \n",
            " 7   Vendedor      2747 non-null   object \n",
            "dtypes: float64(2), object(6)\n",
            "memory usage: 193.1+ KB\n"
          ]
        }
      ],
      "source": [
        "data4.info()"
      ]
    },
    {
      "cell_type": "markdown",
      "metadata": {
        "id": "9PHnleetS3qA"
      },
      "source": [
        "**Convertir DataSet sin valores nulos a CSV**"
      ]
    },
    {
      "cell_type": "code",
      "execution_count": 35,
      "metadata": {
        "id": "aRLKT_8TS5__"
      },
      "outputs": [],
      "source": [
        "#Convertir DataFrame a CSV\n",
        "data3.to_csv(\"inmuebles_sin_nulos.csv\")"
      ]
    },
    {
      "cell_type": "code",
      "execution_count": null,
      "metadata": {
        "id": "3vDbAM6OTAuv"
      },
      "outputs": [],
      "source": [
        "#descargar archivo filtrado en csv\n",
        "from google.colab import files \n",
        "  \n",
        "  \n",
        "files.download(\"inmuebles_sin_nulos.csv\")"
      ]
    }
  ],
  "metadata": {
    "colab": {
      "authorship_tag": "ABX9TyOp2JCHo4Vm4sW6su3j+TGS",
      "include_colab_link": true,
      "provenance": []
    },
    "kernelspec": {
      "display_name": "Python 3",
      "name": "python3"
    },
    "language_info": {
      "codemirror_mode": {
        "name": "ipython",
        "version": 3
      },
      "file_extension": ".py",
      "mimetype": "text/x-python",
      "name": "python",
      "nbconvert_exporter": "python",
      "pygments_lexer": "ipython3",
      "version": "3.13.1"
    }
  },
  "nbformat": 4,
  "nbformat_minor": 0
}
