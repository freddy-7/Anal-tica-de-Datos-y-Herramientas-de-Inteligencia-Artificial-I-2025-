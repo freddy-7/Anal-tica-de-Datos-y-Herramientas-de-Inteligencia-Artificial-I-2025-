{
  "nbformat": 4,
  "nbformat_minor": 0,
  "metadata": {
    "colab": {
      "provenance": [],
      "authorship_tag": "ABX9TyN7Uhg2hyfFZXySt0MuiwVH",
      "include_colab_link": true
    },
    "kernelspec": {
      "name": "python3",
      "display_name": "Python 3"
    },
    "language_info": {
      "name": "python"
    }
  },
  "cells": [
    {
      "cell_type": "markdown",
      "metadata": {
        "id": "view-in-github",
        "colab_type": "text"
      },
      "source": [
        "<a href=\"https://colab.research.google.com/github/freddy-7/Anal-tica-de-Datos-y-Herramientas-de-Inteligencia-Artificial-I-2025-/blob/main/Prueba_Github.ipynb\" target=\"_parent\"><img src=\"https://colab.research.google.com/assets/colab-badge.svg\" alt=\"Open In Colab\"/></a>"
      ]
    },
    {
      "cell_type": "code",
      "execution_count": 1,
      "metadata": {
        "id": "fi1P6GMovpJC"
      },
      "outputs": [],
      "source": [
        "import pandas as pd"
      ]
    }
  ]
}