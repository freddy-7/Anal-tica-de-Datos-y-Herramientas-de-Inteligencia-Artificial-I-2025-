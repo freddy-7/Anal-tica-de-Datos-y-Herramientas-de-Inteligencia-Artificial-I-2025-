{
 "cells": [
  {
   "cell_type": "markdown",
   "metadata": {
    "colab_type": "text",
    "id": "view-in-github"
   },
   "source": [
    "<a href=\"https://colab.research.google.com/github/freddy-7/TI3002C/blob/main/4_Valores_at%C3%ADpicos_DataFrame.ipynb\" target=\"_parent\"><img src=\"https://colab.research.google.com/assets/colab-badge.svg\" alt=\"Open In Colab\"/></a>"
   ]
  },
  {
   "cell_type": "code",
   "execution_count": 1,
   "metadata": {
    "id": "UUYDGugWq8As"
   },
   "outputs": [],
   "source": [
    "#Importamos las librerias pandas, numpy y matplotlib respectivamente\n",
    "import pandas as pd\n",
    "import numpy as np\n",
    "import matplotlib.pyplot as plt"
   ]
  },
  {
   "cell_type": "code",
   "execution_count": null,
   "metadata": {
    "id": "3pUmba8irZZF"
   },
   "outputs": [],
   "source": [
    "#Cargar archivo csv desde equipo\n",
    "from google.colab import files\n",
    "files.upload()"
   ]
  },
  {
   "cell_type": "code",
   "execution_count": 3,
   "metadata": {
    "id": "HBbMv05wrkC8"
   },
   "outputs": [],
   "source": [
    "#Carga desde un archivo .csv sin indice\n",
    "data= pd.read_csv('Ventas_totales.csv') "
   ]
  },
  {
   "cell_type": "code",
   "execution_count": 4,
   "metadata": {
    "id": "YNNsijHArn0T"
   },
   "outputs": [
    {
     "name": "stdout",
     "output_type": "stream",
     "text": [
      "<class 'pandas.core.frame.DataFrame'>\n",
      "RangeIndex: 65 entries, 0 to 64\n",
      "Data columns (total 24 columns):\n",
      " #   Column                               Non-Null Count  Dtype  \n",
      "---  ------                               --------------  -----  \n",
      " 0   indice_tiempo                        65 non-null     object \n",
      " 1   ventas_precios_corrientes            65 non-null     float64\n",
      " 2   ventas_precios_constantes            65 non-null     float64\n",
      " 3   ventas_totales_canal_venta           65 non-null     float64\n",
      " 4   salon_ventas                         59 non-null     float64\n",
      " 5   canales_on_line                      65 non-null     float64\n",
      " 6   ventas_totales_medio_pago            65 non-null     float64\n",
      " 7   efectivo                             65 non-null     float64\n",
      " 8   tarjetas_debito                      64 non-null     float64\n",
      " 9   tarjetas_credito                     58 non-null     float64\n",
      " 10  otros_medios                         64 non-null     float64\n",
      " 11  ventas_totales_grupo_articulos       65 non-null     float64\n",
      " 12  subtotal_ventas_alimentos_bebidas    55 non-null     float64\n",
      " 13  bebidas                              64 non-null     float64\n",
      " 14  almacen                              63 non-null     float64\n",
      " 15  panaderia                            64 non-null     float64\n",
      " 16  lacteos                              64 non-null     float64\n",
      " 17  carnes                               64 non-null     float64\n",
      " 18  verduleria_fruteria                  64 non-null     float64\n",
      " 19  alimentos_preparados_rotiseria       64 non-null     float64\n",
      " 20  articulos_limpieza_perfumeria        65 non-null     float64\n",
      " 21  indumentaria_calzado_textiles_hogar  63 non-null     float64\n",
      " 22  electronicos_articulos_hogar         62 non-null     float64\n",
      " 23  otros                                61 non-null     float64\n",
      "dtypes: float64(23), object(1)\n",
      "memory usage: 12.3+ KB\n"
     ]
    }
   ],
   "source": [
    "#Verificamos información del DataFrame\n",
    "data.info()"
   ]
  },
  {
   "cell_type": "code",
   "execution_count": null,
   "metadata": {
    "id": "kAA40FSSr_um"
   },
   "outputs": [],
   "source": [
    "#Corroboramos valores nulos\n",
    "valores_nulos=data.isnull().sum()\n",
    "valores_nulos"
   ]
  },
  {
   "cell_type": "markdown",
   "metadata": {
    "id": "gr44NgjSsIej"
   },
   "source": [
    "**PROCEDIMIENTO PARA ELIMINAR VALORES NULOS EN DATAFRAME**"
   ]
  },
  {
   "cell_type": "code",
   "execution_count": null,
   "metadata": {
    "id": "OD6RsDDhsJYK"
   },
   "outputs": [],
   "source": [
    "#Reemplazamos valores nulos del dataframe con \"bfill\"\n",
    "data1 =data.fillna(method=\"bfill\") \n",
    "data1"
   ]
  },
  {
   "cell_type": "code",
   "execution_count": null,
   "metadata": {
    "id": "sDfJq961sN5o"
   },
   "outputs": [],
   "source": [
    "#Corroboramos valores nulos del dataframe\n",
    "valores_nulos=data1.isnull().sum()\n",
    "valores_nulos"
   ]
  },
  {
   "cell_type": "code",
   "execution_count": 9,
   "metadata": {},
   "outputs": [],
   "source": [
    "#Creo 2 dataframe para poder procesar los outliers\n",
    "cuantitativas= data1.iloc[ : , 1:23 ]\n",
    "cualitativas= data1.iloc[ : , [0] ]"
   ]
  },
  {
   "cell_type": "code",
   "execution_count": 11,
   "metadata": {
    "colab": {
     "base_uri": "https://localhost:8080/",
     "height": 469
    },
    "id": "-_TULKm0tWBn",
    "outputId": "a16487d1-05fa-428b-e562-964fc52d4757"
   },
   "outputs": [
    {
     "data": {
      "image/png": "[encoded data removed]",
      "text/plain": [
       "<Figure size 1500x800 with 1 Axes>"
      ]
     },
     "metadata": {},
     "output_type": "display_data"
    }
   ],
   "source": [
    "#Realizamos diagrama de caja o bigote de cada columna del dataframe\n",
    "fig = plt.figure(figsize =(15, 8))\n",
    "cuantitativas['subtotal_ventas_alimentos_bebidas'].plot(kind='box', vert=False)\n",
    "plt.title(\"Valores Atípicos del Dataframe\")\n",
    "plt.show() #dibujamos el diagrama"
   ]
  },
  {
   "cell_type": "markdown",
   "metadata": {
    "id": "S7DBpOezud24"
   },
   "source": [
    "**PROCEDIMIENTO \"CUANTILES\" PARA SUSTITUIR OUTLIERS EN DATAFRAME**"
   ]
  },
  {
   "cell_type": "code",
   "execution_count": 12,
   "metadata": {
    "id": "1WA-UK6suf62"
   },
   "outputs": [
    {
     "name": "stdout",
     "output_type": "stream",
     "text": [
      "Limite superior permitido ventas_precios_corrientes              1.923194e+05\n",
      "ventas_precios_constantes              3.193875e+04\n",
      "ventas_totales_canal_venta             1.875116e+08\n",
      "salon_ventas                           1.780323e+08\n",
      "canales_on_line                        9.196781e+06\n",
      "ventas_totales_medio_pago              1.875116e+08\n",
      "efectivo                               5.942022e+07\n",
      "tarjetas_debito                        5.193351e+07\n",
      "tarjetas_credito                       6.619178e+07\n",
      "otros_medios                           1.065047e+07\n",
      "ventas_totales_grupo_articulos         1.875116e+08\n",
      "subtotal_ventas_alimentos_bebidas      1.145480e+08\n",
      "bebidas                                2.282518e+07\n",
      "almacen                                5.075533e+07\n",
      "panaderia                              5.344003e+06\n",
      "lacteos                                1.994066e+07\n",
      "carnes                                 2.390920e+07\n",
      "verduleria_fruteria                    7.969238e+06\n",
      "alimentos_preparados_rotiseria         1.546751e+06\n",
      "articulos_limpieza_perfumeria          2.773546e+07\n",
      "indumentaria_calzado_textiles_hogar    4.028365e+06\n",
      "electronicos_articulos_hogar           1.404216e+07\n",
      "dtype: float64\n",
      "Limite inferior permitido ventas_precios_corrientes             -5.917865e+04\n",
      "ventas_precios_constantes              1.875995e+04\n",
      "ventas_totales_canal_venta            -5.116585e+07\n",
      "salon_ventas                          -4.465506e+07\n",
      "canales_on_line                       -4.707517e+06\n",
      "ventas_totales_medio_pago             -5.116585e+07\n",
      "efectivo                              -1.402458e+07\n",
      "tarjetas_debito                       -1.593794e+07\n",
      "tarjetas_credito                      -1.852867e+07\n",
      "otros_medios                          -3.781032e+06\n",
      "ventas_totales_grupo_articulos        -5.116585e+07\n",
      "subtotal_ventas_alimentos_bebidas     -1.179005e+07\n",
      "bebidas                               -6.724637e+06\n",
      "almacen                               -1.477968e+07\n",
      "panaderia                             -9.465719e+05\n",
      "lacteos                               -5.569362e+06\n",
      "carnes                                -8.465593e+06\n",
      "verduleria_fruteria                   -2.672127e+06\n",
      "alimentos_preparados_rotiseria        -2.273138e+05\n",
      "articulos_limpieza_perfumeria         -8.258487e+06\n",
      "indumentaria_calzado_textiles_hogar   -8.003385e+05\n",
      "electronicos_articulos_hogar          -4.954694e+06\n",
      "dtype: float64\n"
     ]
    }
   ],
   "source": [
    "#Método aplicando Cuartiles. Encuentro cuartiles 0.25 y 0.75\n",
    "y=cuantitativas\n",
    "\n",
    "percentile25=y.quantile(0.25) #Q1\n",
    "percentile75=y.quantile(0.75) #Q3\n",
    "iqr= percentile75 - percentile25\n",
    "\n",
    "Limite_Superior_iqr= percentile75 + 1.5*iqr\n",
    "Limite_Inferior_iqr= percentile25 - 1.5*iqr\n",
    "print(\"Limite superior permitido\", Limite_Superior_iqr)\n",
    "print(\"Limite inferior permitido\", Limite_Inferior_iqr)"
   ]
  },
  {
   "cell_type": "code",
   "execution_count": null,
   "metadata": {
    "id": "C9KX1wdhuls-"
   },
   "outputs": [],
   "source": [
    "#Obtenemos datos limpios del Dataframe\n",
    "data3_iqr= cuantitativas[(y<=Limite_Superior_iqr)&(y>=Limite_Inferior_iqr)]\n",
    "data3_iqr"
   ]
  },
  {
   "cell_type": "code",
   "execution_count": null,
   "metadata": {
    "id": "NJvcXzCEurXL"
   },
   "outputs": [],
   "source": [
    "#Corroboramos valores nulos del dataframe LIMPIO\n",
    "valores_nulos=data3_iqr.isnull().sum()\n",
    "valores_nulos"
   ]
  },
  {
   "cell_type": "code",
   "execution_count": null,
   "metadata": {
    "id": "_G1hFgkUuva1"
   },
   "outputs": [],
   "source": [
    "#Reemplazamos valores atípicos (nulos) del dataframe con \"mean\"\n",
    "#Realizamos una copia del dataframe\n",
    "data4_iqr=data3_iqr.copy()\n",
    "data4_iqr=data4_iqr.fillna(round(data3_iqr.mean(),1))\n",
    "data4_iqr"
   ]
  },
  {
   "cell_type": "code",
   "execution_count": null,
   "metadata": {
    "id": "KNDHIU-Fu0WL"
   },
   "outputs": [],
   "source": [
    "# Unimos el dataframe cuantitativo limpio con el dataframe cualitativo\n",
    "\n",
    "Datos_limpios = pd.concat([cualitativas, data4_iqr], axis=1)\n",
    "Datos_limpios"
   ]
  },
  {
   "cell_type": "code",
   "execution_count": null,
   "metadata": {
    "id": "f0aKyHHHu3xk"
   },
   "outputs": [],
   "source": [
    "#Corroboramos valores nulos del dataframe LIMPIO\n",
    "valores_nulos=Datos_limpios.isnull().sum()\n",
    "valores_nulos"
   ]
  },
  {
   "cell_type": "code",
   "execution_count": 19,
   "metadata": {
    "id": "lxlWhbbwu6xQ"
   },
   "outputs": [],
   "source": [
    "#Convertir DataFrame a CSV\n",
    "Datos_limpios.to_csv(\"Datos_limpios.csv\")"
   ]
  },
  {
   "cell_type": "code",
   "execution_count": 29,
   "metadata": {
    "colab": {
     "base_uri": "https://localhost:8080/",
     "height": 17
    },
    "id": "yp6_L67Tu8mr",
    "outputId": "6b0084dc-7b3a-418e-fc57-0546976d5e47"
   },
   "outputs": [
    {
     "data": {
      "application/javascript": "\n    async function download(id, filename, size) {\n      if (!google.colab.kernel.accessAllowed) {\n        return;\n      }\n      const div = document.createElement('div');\n      const label = document.createElement('label');\n      label.textContent = `Downloading \"${filename}\": `;\n      div.appendChild(label);\n      const progress = document.createElement('progress');\n      progress.max = size;\n      div.appendChild(progress);\n      document.body.appendChild(div);\n\n      const buffers = [];\n      let downloaded = 0;\n\n      const channel = await google.colab.kernel.comms.open(id);\n      // Send a message to notify the kernel that we're ready.\n      channel.send({})\n\n      for await (const message of channel.messages) {\n        // Send a message to notify the kernel that we're ready.\n        channel.send({})\n        if (message.buffers) {\n          for (const buffer of message.buffers) {\n            buffers.push(buffer);\n            downloaded += buffer.byteLength;\n            progress.value = downloaded;\n          }\n        }\n      }\n      const blob = new Blob(buffers, {type: 'application/binary'});\n      const a = document.createElement('a');\n      a.href = window.URL.createObjectURL(blob);\n      a.download = filename;\n      div.appendChild(a);\n      a.click();\n      div.remove();\n    }\n  ",
      "text/plain": [
       "<IPython.core.display.Javascript object>"
      ]
     },
     "metadata": {},
     "output_type": "display_data"
    },
    {
     "data": {
      "application/javascript": "download(\"download_dd05a7c4-3c06-49e0-8625-df800284c81d\", \"Datos_limpios.csv\", 18534)",
      "text/plain": [
       "<IPython.core.display.Javascript object>"
      ]
     },
     "metadata": {},
     "output_type": "display_data"
    }
   ],
   "source": [
    "#descargar archivo filtrado en csv\n",
    "from google.colab import files \n",
    "  \n",
    "  \n",
    "files.download(\"Datos_limpios.csv\")"
   ]
  }
 ],
 "metadata": {
  "colab": {
   "authorship_tag": "ABX9TyMRCkzj6GpCev58BI9GyHCt",
   "include_colab_link": true,
   "provenance": []
  },
  "kernelspec": {
   "display_name": "Python 3",
   "name": "python3"
  },
  "language_info": {
   "codemirror_mode": {
    "name": "ipython",
    "version": 3
   },
   "file_extension": ".py",
   "mimetype": "text/x-python",
   "name": "python",
   "nbconvert_exporter": "python",
   "pygments_lexer": "ipython3",
   "version": "3.13.1"
  }
 },
 "nbformat": 4,
 "nbformat_minor": 0
}
